{
 "cells": [
  {
   "cell_type": "code",
   "execution_count": 1,
   "metadata": {},
   "outputs": [
    {
     "ename": "FileNotFoundError",
     "evalue": "[Errno 2] No such file or directory: '../data/processed'",
     "output_type": "error",
     "traceback": [
      "\u001b[0;31m---------------------------------------------------------------------------\u001b[0m",
      "\u001b[0;31mFileNotFoundError\u001b[0m                         Traceback (most recent call last)",
      "Cell \u001b[0;32mIn[1], line 11\u001b[0m\n\u001b[1;32m      9\u001b[0m \u001b[38;5;66;03m# Load the processed data\u001b[39;00m\n\u001b[1;32m     10\u001b[0m processed_folder \u001b[38;5;241m=\u001b[39m \u001b[38;5;124m'\u001b[39m\u001b[38;5;124m../data/processed\u001b[39m\u001b[38;5;124m'\u001b[39m\n\u001b[0;32m---> 11\u001b[0m test_files \u001b[38;5;241m=\u001b[39m [os\u001b[38;5;241m.\u001b[39mpath\u001b[38;5;241m.\u001b[39mjoin(processed_folder, f) \u001b[38;5;28;01mfor\u001b[39;00m f \u001b[38;5;129;01min\u001b[39;00m \u001b[43mos\u001b[49m\u001b[38;5;241;43m.\u001b[39;49m\u001b[43mlistdir\u001b[49m\u001b[43m(\u001b[49m\u001b[43mprocessed_folder\u001b[49m\u001b[43m)\u001b[49m \u001b[38;5;28;01mif\u001b[39;00m f\u001b[38;5;241m.\u001b[39mstartswith(\u001b[38;5;124m'\u001b[39m\u001b[38;5;124mtest_\u001b[39m\u001b[38;5;124m'\u001b[39m)]\n\u001b[1;32m     13\u001b[0m \u001b[38;5;66;03m# Concatenate all test files into one DataFrame\u001b[39;00m\n\u001b[1;32m     14\u001b[0m test_data \u001b[38;5;241m=\u001b[39m pd\u001b[38;5;241m.\u001b[39mconcat([pd\u001b[38;5;241m.\u001b[39mread_csv(file) \u001b[38;5;28;01mfor\u001b[39;00m file \u001b[38;5;129;01min\u001b[39;00m test_files])\n",
      "\u001b[0;31mFileNotFoundError\u001b[0m: [Errno 2] No such file or directory: '../data/processed'"
     ]
    }
   ],
   "source": [
    "import os\n",
    "import pandas as pd\n",
    "import matplotlib.pyplot as plt\n",
    "import seaborn as sns\n",
    "\n",
    "# Ensure the plots are rendered in the notebook\n",
    "%matplotlib inline\n",
    "\n",
    "# Load the processed data\n",
    "processed_folder = '../data/processed'\n",
    "test_files = [os.path.join(processed_folder, f) for f in os.listdir(processed_folder) if f.startswith('test_')]\n",
    "\n",
    "# Concatenate all test files into one DataFrame\n",
    "test_data = pd.concat([pd.read_csv(file) for file in test_files])\n",
    "\n",
    "# Plot frequency of each unique value as a barplot\n",
    "for column in test_data.columns:\n",
    "    print(f\"Value counts for column: {column}\")\n",
    "    unique_values = test_data[column].nunique()\n",
    "\n",
    "    # If unique values are greater than 40, create 40 bins\n",
    "    if unique_values > 40:\n",
    "        print(f\"Binning {column} into 40 categories...\")\n",
    "        value_counts, bins = pd.cut(test_data[column], bins=40, retbins=True)\n",
    "        value_counts = value_counts.value_counts(sort=False)\n",
    "    else:\n",
    "        value_counts = test_data[column].value_counts()\n",
    "\n",
    "    # Plot frequency of each value as a barplot\n",
    "    plt.figure(figsize=(12, 6))\n",
    "\n",
    "    # Create barplot for unique values' frequency\n",
    "    sns.barplot(x=value_counts.index.astype(str), y=value_counts.values)\n",
    "\n",
    "    # Set plot title and labels\n",
    "    plt.title(f\"Frequency of Unique Values in {column}\")\n",
    "    plt.xlabel(f\"Unique {column} Values\")\n",
    "    plt.ylabel('Frequency')\n",
    "\n",
    "    # Rotate x-axis labels for better readability if necessary\n",
    "    plt.xticks(rotation=45, ha='right')\n",
    "    \n",
    "    # Show the plot\n",
    "    plt.tight_layout()\n",
    "    plt.show()\n"
   ]
  }
 ],
 "metadata": {
  "kernelspec": {
   "display_name": "Python 3 (ipykernel)",
   "language": "python",
   "name": "python3"
  },
  "language_info": {
   "codemirror_mode": {
    "name": "ipython",
    "version": 3
   },
   "file_extension": ".py",
   "mimetype": "text/x-python",
   "name": "python",
   "nbconvert_exporter": "python",
   "pygments_lexer": "ipython3",
   "version": "3.9.19"
  }
 },
 "nbformat": 4,
 "nbformat_minor": 4
}
